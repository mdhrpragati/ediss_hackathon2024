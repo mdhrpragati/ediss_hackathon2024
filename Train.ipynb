{
  "cells": [
    {
      "cell_type": "code",
      "execution_count": null,
      "metadata": {
        "id": "51UoGuEUbm9d"
      },
      "outputs": [],
      "source": [
        "import pandas as pd\n",
        "import numpy as np\n",
        "import seaborn as sns\n",
        "import matplotlib.pyplot as plt\n",
        "\n",
        "from sklearn.ensemble import GradientBoostingClassifier, RandomForestClassifier\n",
        "from sklearn.linear_model import LogisticRegression\n",
        "from sklearn.neural_network import MLPClassifier\n",
        "from sklearn.svm import SVC\n",
        "from sklearn.metrics import accuracy_score, precision_score, recall_score, f1_score, confusion_matrix\n",
        "from sklearn.model_selection import GridSearchCV, train_test_split\n",
        "\n",
        "from imblearn.over_sampling import SMOTE"
      ]
    },
    {
      "cell_type": "code",
      "execution_count": null,
      "metadata": {
        "id": "GD5YFbEnbsnz"
      },
      "outputs": [],
      "source": [
        "FILENAME = 'Feature_Track.xlsx'\n",
        "TO_SHIFT = -1"
      ]
    },
    {
      "cell_type": "code",
      "execution_count": null,
      "metadata": {
        "id": "z20o638ubqdr"
      },
      "outputs": [],
      "source": [
        "df = pd.read_excel(FILENAME)\n",
        "\n",
        "def create_future_risk_evaluation(to_shift, df):\n",
        "  df['future_risk_evaluation'] = df['risk_evaluation'].shift(TO_SHIFT)\n",
        "  df_final = df\n",
        "  for _ in range(abs(to_shift)):\n",
        "    df_filtered = df[~df.duplicated(subset='subject', keep='last')]\n",
        "    df_final = df.drop(df_filtered.index)\n",
        "  return df_final\n",
        "\n",
        "df.loc[df['risk_evaluation'] == 2, 'risk_evaluation'] = 1\n",
        "df = create_future_risk_evaluation(TO_SHIFT, df)"
      ]
    },
    {
      "cell_type": "code",
      "execution_count": null,
      "metadata": {
        "id": "8aHadyhVjP2Y"
      },
      "outputs": [],
      "source": [
        "df.replace(np.nan, 0, inplace=True)"
      ]
    },
    {
      "cell_type": "code",
      "execution_count": null,
      "metadata": {
        "colab": {
          "base_uri": "https://localhost:8080/",
          "height": 461
        },
        "id": "4jfr2D3Ub4yd",
        "outputId": "4c868ea9-1ead-464b-c5d0-50b6561d5b3a"
      },
      "outputs": [
        {
          "output_type": "execute_result",
          "data": {
            "text/plain": [
              "      Unnamed: 0 subject  lap  start_time  straight  roundabout_entry  \\\n",
              "0              0  0AC2A4    1           7         1                 1   \n",
              "1              1  0AC2A4    1          27         1                 0   \n",
              "2              2  0AC2A4    1          33         1                 0   \n",
              "3              3  0AC2A4    1          43         1                 1   \n",
              "4              4  0AC2A4    1          58         1                 1   \n",
              "...          ...     ...  ...         ...       ...               ...   \n",
              "1050        1050  8924EA    7          99         0                 0   \n",
              "1051        1051  8924EA    7         104         0                 1   \n",
              "1052        1052  8924EA    7         112         0                 0   \n",
              "1053        1053  8924EA    7         115         0                 0   \n",
              "1054        1054  8924EA    7         130         1                 0   \n",
              "\n",
              "      roundabout_exit  zebra_crossing  left_turn  u_turn  ...  \\\n",
              "0                   0               0          1       0  ...   \n",
              "1                   1               0          1       0  ...   \n",
              "2                   0               1          1       0  ...   \n",
              "3                   0               0          0       0  ...   \n",
              "4                   0               0          0       0  ...   \n",
              "...               ...             ...        ...     ...  ...   \n",
              "1050                0               0          1       0  ...   \n",
              "1051                0               1          0       0  ...   \n",
              "1052                1               1          0       0  ...   \n",
              "1053                0               0          1       0  ...   \n",
              "1054                0               1          0       0  ...   \n",
              "\n",
              "      LowerAlphaParietal  UpperAlphaFrontal  UpperAlphaParietal  BetaFrontal  \\\n",
              "0                0.08812            0.13469             0.08590      0.05499   \n",
              "1                0.08118            0.12483             0.07588      0.04060   \n",
              "2                0.11480            0.10121             0.09079      0.04339   \n",
              "3                0.12873            0.11832             0.11087      0.04872   \n",
              "4                0.14454            0.13428             0.13604      0.04173   \n",
              "...                  ...                ...                 ...          ...   \n",
              "1050             0.09497            0.04877             0.06143      0.01402   \n",
              "1051             0.05568            0.03106             0.04034      0.01196   \n",
              "1052             0.00000            0.00000             0.00000      0.00000   \n",
              "1053             0.00000            0.00000             0.00000      0.00000   \n",
              "1054             0.00000            0.00000             0.00000      0.00000   \n",
              "\n",
              "      BetaParietal  LowerBetaFrontal  LowerBetaParietal  UpperBetaFrontal  \\\n",
              "0          0.04078           0.08419            0.06275           0.03722   \n",
              "1          0.02869           0.05951            0.04759           0.02963   \n",
              "2          0.02727           0.06250            0.04305           0.03296   \n",
              "3          0.02917           0.06894            0.04766           0.03627   \n",
              "4          0.02743           0.05937            0.04344           0.03132   \n",
              "...            ...               ...                ...               ...   \n",
              "1050       0.01226           0.02569            0.02228           0.00680   \n",
              "1051       0.01110           0.01724            0.01730           0.00886   \n",
              "1052       0.00000           0.00000            0.00000           0.00000   \n",
              "1053       0.00000           0.00000            0.00000           0.00000   \n",
              "1054       0.00000           0.00000            0.00000           0.00000   \n",
              "\n",
              "      UpperBetaParietal  future_risk_evaluation  \n",
              "0               0.02711                     0.0  \n",
              "1               0.01753                     0.0  \n",
              "2               0.01751                     0.0  \n",
              "3               0.01744                     0.0  \n",
              "4               0.01762                     0.0  \n",
              "...                 ...                     ...  \n",
              "1050            0.00593                     0.0  \n",
              "1051            0.00729                     0.0  \n",
              "1052            0.00000                     0.0  \n",
              "1053            0.00000                     0.0  \n",
              "1054            0.00000                     0.0  \n",
              "\n",
              "[1040 rows x 90 columns]"
            ],
            "text/html": [
              "\n",
              "  <div id=\"df-8566c7ff-ebec-4943-8a15-0f0d2c805778\" class=\"colab-df-container\">\n",
              "    <div>\n",
              "<style scoped>\n",
              "    .dataframe tbody tr th:only-of-type {\n",
              "        vertical-align: middle;\n",
              "    }\n",
              "\n",
              "    .dataframe tbody tr th {\n",
              "        vertical-align: top;\n",
              "    }\n",
              "\n",
              "    .dataframe thead th {\n",
              "        text-align: right;\n",
              "    }\n",
              "</style>\n",
              "<table border=\"1\" class=\"dataframe\">\n",
              "  <thead>\n",
              "    <tr style=\"text-align: right;\">\n",
              "      <th></th>\n",
              "      <th>Unnamed: 0</th>\n",
              "      <th>subject</th>\n",
              "      <th>lap</th>\n",
              "      <th>start_time</th>\n",
              "      <th>straight</th>\n",
              "      <th>roundabout_entry</th>\n",
              "      <th>roundabout_exit</th>\n",
              "      <th>zebra_crossing</th>\n",
              "      <th>left_turn</th>\n",
              "      <th>u_turn</th>\n",
              "      <th>...</th>\n",
              "      <th>LowerAlphaParietal</th>\n",
              "      <th>UpperAlphaFrontal</th>\n",
              "      <th>UpperAlphaParietal</th>\n",
              "      <th>BetaFrontal</th>\n",
              "      <th>BetaParietal</th>\n",
              "      <th>LowerBetaFrontal</th>\n",
              "      <th>LowerBetaParietal</th>\n",
              "      <th>UpperBetaFrontal</th>\n",
              "      <th>UpperBetaParietal</th>\n",
              "      <th>future_risk_evaluation</th>\n",
              "    </tr>\n",
              "  </thead>\n",
              "  <tbody>\n",
              "    <tr>\n",
              "      <th>0</th>\n",
              "      <td>0</td>\n",
              "      <td>0AC2A4</td>\n",
              "      <td>1</td>\n",
              "      <td>7</td>\n",
              "      <td>1</td>\n",
              "      <td>1</td>\n",
              "      <td>0</td>\n",
              "      <td>0</td>\n",
              "      <td>1</td>\n",
              "      <td>0</td>\n",
              "      <td>...</td>\n",
              "      <td>0.08812</td>\n",
              "      <td>0.13469</td>\n",
              "      <td>0.08590</td>\n",
              "      <td>0.05499</td>\n",
              "      <td>0.04078</td>\n",
              "      <td>0.08419</td>\n",
              "      <td>0.06275</td>\n",
              "      <td>0.03722</td>\n",
              "      <td>0.02711</td>\n",
              "      <td>0.0</td>\n",
              "    </tr>\n",
              "    <tr>\n",
              "      <th>1</th>\n",
              "      <td>1</td>\n",
              "      <td>0AC2A4</td>\n",
              "      <td>1</td>\n",
              "      <td>27</td>\n",
              "      <td>1</td>\n",
              "      <td>0</td>\n",
              "      <td>1</td>\n",
              "      <td>0</td>\n",
              "      <td>1</td>\n",
              "      <td>0</td>\n",
              "      <td>...</td>\n",
              "      <td>0.08118</td>\n",
              "      <td>0.12483</td>\n",
              "      <td>0.07588</td>\n",
              "      <td>0.04060</td>\n",
              "      <td>0.02869</td>\n",
              "      <td>0.05951</td>\n",
              "      <td>0.04759</td>\n",
              "      <td>0.02963</td>\n",
              "      <td>0.01753</td>\n",
              "      <td>0.0</td>\n",
              "    </tr>\n",
              "    <tr>\n",
              "      <th>2</th>\n",
              "      <td>2</td>\n",
              "      <td>0AC2A4</td>\n",
              "      <td>1</td>\n",
              "      <td>33</td>\n",
              "      <td>1</td>\n",
              "      <td>0</td>\n",
              "      <td>0</td>\n",
              "      <td>1</td>\n",
              "      <td>1</td>\n",
              "      <td>0</td>\n",
              "      <td>...</td>\n",
              "      <td>0.11480</td>\n",
              "      <td>0.10121</td>\n",
              "      <td>0.09079</td>\n",
              "      <td>0.04339</td>\n",
              "      <td>0.02727</td>\n",
              "      <td>0.06250</td>\n",
              "      <td>0.04305</td>\n",
              "      <td>0.03296</td>\n",
              "      <td>0.01751</td>\n",
              "      <td>0.0</td>\n",
              "    </tr>\n",
              "    <tr>\n",
              "      <th>3</th>\n",
              "      <td>3</td>\n",
              "      <td>0AC2A4</td>\n",
              "      <td>1</td>\n",
              "      <td>43</td>\n",
              "      <td>1</td>\n",
              "      <td>1</td>\n",
              "      <td>0</td>\n",
              "      <td>0</td>\n",
              "      <td>0</td>\n",
              "      <td>0</td>\n",
              "      <td>...</td>\n",
              "      <td>0.12873</td>\n",
              "      <td>0.11832</td>\n",
              "      <td>0.11087</td>\n",
              "      <td>0.04872</td>\n",
              "      <td>0.02917</td>\n",
              "      <td>0.06894</td>\n",
              "      <td>0.04766</td>\n",
              "      <td>0.03627</td>\n",
              "      <td>0.01744</td>\n",
              "      <td>0.0</td>\n",
              "    </tr>\n",
              "    <tr>\n",
              "      <th>4</th>\n",
              "      <td>4</td>\n",
              "      <td>0AC2A4</td>\n",
              "      <td>1</td>\n",
              "      <td>58</td>\n",
              "      <td>1</td>\n",
              "      <td>1</td>\n",
              "      <td>0</td>\n",
              "      <td>0</td>\n",
              "      <td>0</td>\n",
              "      <td>0</td>\n",
              "      <td>...</td>\n",
              "      <td>0.14454</td>\n",
              "      <td>0.13428</td>\n",
              "      <td>0.13604</td>\n",
              "      <td>0.04173</td>\n",
              "      <td>0.02743</td>\n",
              "      <td>0.05937</td>\n",
              "      <td>0.04344</td>\n",
              "      <td>0.03132</td>\n",
              "      <td>0.01762</td>\n",
              "      <td>0.0</td>\n",
              "    </tr>\n",
              "    <tr>\n",
              "      <th>...</th>\n",
              "      <td>...</td>\n",
              "      <td>...</td>\n",
              "      <td>...</td>\n",
              "      <td>...</td>\n",
              "      <td>...</td>\n",
              "      <td>...</td>\n",
              "      <td>...</td>\n",
              "      <td>...</td>\n",
              "      <td>...</td>\n",
              "      <td>...</td>\n",
              "      <td>...</td>\n",
              "      <td>...</td>\n",
              "      <td>...</td>\n",
              "      <td>...</td>\n",
              "      <td>...</td>\n",
              "      <td>...</td>\n",
              "      <td>...</td>\n",
              "      <td>...</td>\n",
              "      <td>...</td>\n",
              "      <td>...</td>\n",
              "      <td>...</td>\n",
              "    </tr>\n",
              "    <tr>\n",
              "      <th>1050</th>\n",
              "      <td>1050</td>\n",
              "      <td>8924EA</td>\n",
              "      <td>7</td>\n",
              "      <td>99</td>\n",
              "      <td>0</td>\n",
              "      <td>0</td>\n",
              "      <td>0</td>\n",
              "      <td>0</td>\n",
              "      <td>1</td>\n",
              "      <td>0</td>\n",
              "      <td>...</td>\n",
              "      <td>0.09497</td>\n",
              "      <td>0.04877</td>\n",
              "      <td>0.06143</td>\n",
              "      <td>0.01402</td>\n",
              "      <td>0.01226</td>\n",
              "      <td>0.02569</td>\n",
              "      <td>0.02228</td>\n",
              "      <td>0.00680</td>\n",
              "      <td>0.00593</td>\n",
              "      <td>0.0</td>\n",
              "    </tr>\n",
              "    <tr>\n",
              "      <th>1051</th>\n",
              "      <td>1051</td>\n",
              "      <td>8924EA</td>\n",
              "      <td>7</td>\n",
              "      <td>104</td>\n",
              "      <td>0</td>\n",
              "      <td>1</td>\n",
              "      <td>0</td>\n",
              "      <td>1</td>\n",
              "      <td>0</td>\n",
              "      <td>0</td>\n",
              "      <td>...</td>\n",
              "      <td>0.05568</td>\n",
              "      <td>0.03106</td>\n",
              "      <td>0.04034</td>\n",
              "      <td>0.01196</td>\n",
              "      <td>0.01110</td>\n",
              "      <td>0.01724</td>\n",
              "      <td>0.01730</td>\n",
              "      <td>0.00886</td>\n",
              "      <td>0.00729</td>\n",
              "      <td>0.0</td>\n",
              "    </tr>\n",
              "    <tr>\n",
              "      <th>1052</th>\n",
              "      <td>1052</td>\n",
              "      <td>8924EA</td>\n",
              "      <td>7</td>\n",
              "      <td>112</td>\n",
              "      <td>0</td>\n",
              "      <td>0</td>\n",
              "      <td>1</td>\n",
              "      <td>1</td>\n",
              "      <td>0</td>\n",
              "      <td>0</td>\n",
              "      <td>...</td>\n",
              "      <td>0.00000</td>\n",
              "      <td>0.00000</td>\n",
              "      <td>0.00000</td>\n",
              "      <td>0.00000</td>\n",
              "      <td>0.00000</td>\n",
              "      <td>0.00000</td>\n",
              "      <td>0.00000</td>\n",
              "      <td>0.00000</td>\n",
              "      <td>0.00000</td>\n",
              "      <td>0.0</td>\n",
              "    </tr>\n",
              "    <tr>\n",
              "      <th>1053</th>\n",
              "      <td>1053</td>\n",
              "      <td>8924EA</td>\n",
              "      <td>7</td>\n",
              "      <td>115</td>\n",
              "      <td>0</td>\n",
              "      <td>0</td>\n",
              "      <td>0</td>\n",
              "      <td>0</td>\n",
              "      <td>1</td>\n",
              "      <td>0</td>\n",
              "      <td>...</td>\n",
              "      <td>0.00000</td>\n",
              "      <td>0.00000</td>\n",
              "      <td>0.00000</td>\n",
              "      <td>0.00000</td>\n",
              "      <td>0.00000</td>\n",
              "      <td>0.00000</td>\n",
              "      <td>0.00000</td>\n",
              "      <td>0.00000</td>\n",
              "      <td>0.00000</td>\n",
              "      <td>0.0</td>\n",
              "    </tr>\n",
              "    <tr>\n",
              "      <th>1054</th>\n",
              "      <td>1054</td>\n",
              "      <td>8924EA</td>\n",
              "      <td>7</td>\n",
              "      <td>130</td>\n",
              "      <td>1</td>\n",
              "      <td>0</td>\n",
              "      <td>0</td>\n",
              "      <td>1</td>\n",
              "      <td>0</td>\n",
              "      <td>0</td>\n",
              "      <td>...</td>\n",
              "      <td>0.00000</td>\n",
              "      <td>0.00000</td>\n",
              "      <td>0.00000</td>\n",
              "      <td>0.00000</td>\n",
              "      <td>0.00000</td>\n",
              "      <td>0.00000</td>\n",
              "      <td>0.00000</td>\n",
              "      <td>0.00000</td>\n",
              "      <td>0.00000</td>\n",
              "      <td>0.0</td>\n",
              "    </tr>\n",
              "  </tbody>\n",
              "</table>\n",
              "<p>1040 rows × 90 columns</p>\n",
              "</div>\n",
              "    <div class=\"colab-df-buttons\">\n",
              "\n",
              "  <div class=\"colab-df-container\">\n",
              "    <button class=\"colab-df-convert\" onclick=\"convertToInteractive('df-8566c7ff-ebec-4943-8a15-0f0d2c805778')\"\n",
              "            title=\"Convert this dataframe to an interactive table.\"\n",
              "            style=\"display:none;\">\n",
              "\n",
              "  <svg xmlns=\"http://www.w3.org/2000/svg\" height=\"24px\" viewBox=\"0 -960 960 960\">\n",
              "    <path d=\"M120-120v-720h720v720H120Zm60-500h600v-160H180v160Zm220 220h160v-160H400v160Zm0 220h160v-160H400v160ZM180-400h160v-160H180v160Zm440 0h160v-160H620v160ZM180-180h160v-160H180v160Zm440 0h160v-160H620v160Z\"/>\n",
              "  </svg>\n",
              "    </button>\n",
              "\n",
              "  <style>\n",
              "    .colab-df-container {\n",
              "      display:flex;\n",
              "      gap: 12px;\n",
              "    }\n",
              "\n",
              "    .colab-df-convert {\n",
              "      background-color: #E8F0FE;\n",
              "      border: none;\n",
              "      border-radius: 50%;\n",
              "      cursor: pointer;\n",
              "      display: none;\n",
              "      fill: #1967D2;\n",
              "      height: 32px;\n",
              "      padding: 0 0 0 0;\n",
              "      width: 32px;\n",
              "    }\n",
              "\n",
              "    .colab-df-convert:hover {\n",
              "      background-color: #E2EBFA;\n",
              "      box-shadow: 0px 1px 2px rgba(60, 64, 67, 0.3), 0px 1px 3px 1px rgba(60, 64, 67, 0.15);\n",
              "      fill: #174EA6;\n",
              "    }\n",
              "\n",
              "    .colab-df-buttons div {\n",
              "      margin-bottom: 4px;\n",
              "    }\n",
              "\n",
              "    [theme=dark] .colab-df-convert {\n",
              "      background-color: #3B4455;\n",
              "      fill: #D2E3FC;\n",
              "    }\n",
              "\n",
              "    [theme=dark] .colab-df-convert:hover {\n",
              "      background-color: #434B5C;\n",
              "      box-shadow: 0px 1px 3px 1px rgba(0, 0, 0, 0.15);\n",
              "      filter: drop-shadow(0px 1px 2px rgba(0, 0, 0, 0.3));\n",
              "      fill: #FFFFFF;\n",
              "    }\n",
              "  </style>\n",
              "\n",
              "    <script>\n",
              "      const buttonEl =\n",
              "        document.querySelector('#df-8566c7ff-ebec-4943-8a15-0f0d2c805778 button.colab-df-convert');\n",
              "      buttonEl.style.display =\n",
              "        google.colab.kernel.accessAllowed ? 'block' : 'none';\n",
              "\n",
              "      async function convertToInteractive(key) {\n",
              "        const element = document.querySelector('#df-8566c7ff-ebec-4943-8a15-0f0d2c805778');\n",
              "        const dataTable =\n",
              "          await google.colab.kernel.invokeFunction('convertToInteractive',\n",
              "                                                    [key], {});\n",
              "        if (!dataTable) return;\n",
              "\n",
              "        const docLinkHtml = 'Like what you see? Visit the ' +\n",
              "          '<a target=\"_blank\" href=https://colab.research.google.com/notebooks/data_table.ipynb>data table notebook</a>'\n",
              "          + ' to learn more about interactive tables.';\n",
              "        element.innerHTML = '';\n",
              "        dataTable['output_type'] = 'display_data';\n",
              "        await google.colab.output.renderOutput(dataTable, element);\n",
              "        const docLink = document.createElement('div');\n",
              "        docLink.innerHTML = docLinkHtml;\n",
              "        element.appendChild(docLink);\n",
              "      }\n",
              "    </script>\n",
              "  </div>\n",
              "\n",
              "\n",
              "<div id=\"df-0249cc4c-b9c2-4f78-bb6b-c67727c58215\">\n",
              "  <button class=\"colab-df-quickchart\" onclick=\"quickchart('df-0249cc4c-b9c2-4f78-bb6b-c67727c58215')\"\n",
              "            title=\"Suggest charts\"\n",
              "            style=\"display:none;\">\n",
              "\n",
              "<svg xmlns=\"http://www.w3.org/2000/svg\" height=\"24px\"viewBox=\"0 0 24 24\"\n",
              "     width=\"24px\">\n",
              "    <g>\n",
              "        <path d=\"M19 3H5c-1.1 0-2 .9-2 2v14c0 1.1.9 2 2 2h14c1.1 0 2-.9 2-2V5c0-1.1-.9-2-2-2zM9 17H7v-7h2v7zm4 0h-2V7h2v10zm4 0h-2v-4h2v4z\"/>\n",
              "    </g>\n",
              "</svg>\n",
              "  </button>\n",
              "\n",
              "<style>\n",
              "  .colab-df-quickchart {\n",
              "      --bg-color: #E8F0FE;\n",
              "      --fill-color: #1967D2;\n",
              "      --hover-bg-color: #E2EBFA;\n",
              "      --hover-fill-color: #174EA6;\n",
              "      --disabled-fill-color: #AAA;\n",
              "      --disabled-bg-color: #DDD;\n",
              "  }\n",
              "\n",
              "  [theme=dark] .colab-df-quickchart {\n",
              "      --bg-color: #3B4455;\n",
              "      --fill-color: #D2E3FC;\n",
              "      --hover-bg-color: #434B5C;\n",
              "      --hover-fill-color: #FFFFFF;\n",
              "      --disabled-bg-color: #3B4455;\n",
              "      --disabled-fill-color: #666;\n",
              "  }\n",
              "\n",
              "  .colab-df-quickchart {\n",
              "    background-color: var(--bg-color);\n",
              "    border: none;\n",
              "    border-radius: 50%;\n",
              "    cursor: pointer;\n",
              "    display: none;\n",
              "    fill: var(--fill-color);\n",
              "    height: 32px;\n",
              "    padding: 0;\n",
              "    width: 32px;\n",
              "  }\n",
              "\n",
              "  .colab-df-quickchart:hover {\n",
              "    background-color: var(--hover-bg-color);\n",
              "    box-shadow: 0 1px 2px rgba(60, 64, 67, 0.3), 0 1px 3px 1px rgba(60, 64, 67, 0.15);\n",
              "    fill: var(--button-hover-fill-color);\n",
              "  }\n",
              "\n",
              "  .colab-df-quickchart-complete:disabled,\n",
              "  .colab-df-quickchart-complete:disabled:hover {\n",
              "    background-color: var(--disabled-bg-color);\n",
              "    fill: var(--disabled-fill-color);\n",
              "    box-shadow: none;\n",
              "  }\n",
              "\n",
              "  .colab-df-spinner {\n",
              "    border: 2px solid var(--fill-color);\n",
              "    border-color: transparent;\n",
              "    border-bottom-color: var(--fill-color);\n",
              "    animation:\n",
              "      spin 1s steps(1) infinite;\n",
              "  }\n",
              "\n",
              "  @keyframes spin {\n",
              "    0% {\n",
              "      border-color: transparent;\n",
              "      border-bottom-color: var(--fill-color);\n",
              "      border-left-color: var(--fill-color);\n",
              "    }\n",
              "    20% {\n",
              "      border-color: transparent;\n",
              "      border-left-color: var(--fill-color);\n",
              "      border-top-color: var(--fill-color);\n",
              "    }\n",
              "    30% {\n",
              "      border-color: transparent;\n",
              "      border-left-color: var(--fill-color);\n",
              "      border-top-color: var(--fill-color);\n",
              "      border-right-color: var(--fill-color);\n",
              "    }\n",
              "    40% {\n",
              "      border-color: transparent;\n",
              "      border-right-color: var(--fill-color);\n",
              "      border-top-color: var(--fill-color);\n",
              "    }\n",
              "    60% {\n",
              "      border-color: transparent;\n",
              "      border-right-color: var(--fill-color);\n",
              "    }\n",
              "    80% {\n",
              "      border-color: transparent;\n",
              "      border-right-color: var(--fill-color);\n",
              "      border-bottom-color: var(--fill-color);\n",
              "    }\n",
              "    90% {\n",
              "      border-color: transparent;\n",
              "      border-bottom-color: var(--fill-color);\n",
              "    }\n",
              "  }\n",
              "</style>\n",
              "\n",
              "  <script>\n",
              "    async function quickchart(key) {\n",
              "      const quickchartButtonEl =\n",
              "        document.querySelector('#' + key + ' button');\n",
              "      quickchartButtonEl.disabled = true;  // To prevent multiple clicks.\n",
              "      quickchartButtonEl.classList.add('colab-df-spinner');\n",
              "      try {\n",
              "        const charts = await google.colab.kernel.invokeFunction(\n",
              "            'suggestCharts', [key], {});\n",
              "      } catch (error) {\n",
              "        console.error('Error during call to suggestCharts:', error);\n",
              "      }\n",
              "      quickchartButtonEl.classList.remove('colab-df-spinner');\n",
              "      quickchartButtonEl.classList.add('colab-df-quickchart-complete');\n",
              "    }\n",
              "    (() => {\n",
              "      let quickchartButtonEl =\n",
              "        document.querySelector('#df-0249cc4c-b9c2-4f78-bb6b-c67727c58215 button');\n",
              "      quickchartButtonEl.style.display =\n",
              "        google.colab.kernel.accessAllowed ? 'block' : 'none';\n",
              "    })();\n",
              "  </script>\n",
              "</div>\n",
              "    </div>\n",
              "  </div>\n"
            ],
            "application/vnd.google.colaboratory.intrinsic+json": {
              "type": "dataframe",
              "variable_name": "df"
            }
          },
          "metadata": {},
          "execution_count": 153
        }
      ],
      "source": [
        "df"
      ]
    },
    {
      "cell_type": "code",
      "source": [
        "df['future_risk_evaluation'].value_counts()"
      ],
      "metadata": {
        "colab": {
          "base_uri": "https://localhost:8080/"
        },
        "id": "Pc2yVvbP9_Kw",
        "outputId": "54e90881-e448-4e3b-d770-a594bda4aa84"
      },
      "execution_count": null,
      "outputs": [
        {
          "output_type": "execute_result",
          "data": {
            "text/plain": [
              "0.0    1001\n",
              "1.0      39\n",
              "Name: future_risk_evaluation, dtype: int64"
            ]
          },
          "metadata": {},
          "execution_count": 154
        }
      ]
    },
    {
      "cell_type": "code",
      "execution_count": null,
      "metadata": {
        "id": "F1lJiYfefL0L"
      },
      "outputs": [],
      "source": [
        "X = df.iloc[:, 0:-1]\n",
        "y = df.iloc[:, -1]"
      ]
    },
    {
      "cell_type": "code",
      "execution_count": null,
      "metadata": {
        "id": "LWwjphGRg3NZ"
      },
      "outputs": [],
      "source": [
        "to_drop = ['subject', 'Unnamed: 0']\n",
        "X = X.drop(columns=to_drop)"
      ]
    },
    {
      "cell_type": "code",
      "source": [],
      "metadata": {
        "id": "X7k3Zgg0-bQ0"
      },
      "execution_count": null,
      "outputs": []
    },
    {
      "cell_type": "code",
      "source": [
        "# from imblearn.over_sampling import SMOTE\n",
        "# import pandas as pd\n",
        "\n",
        "# Assuming you have a DataFrame called 'df' with features and target variable\n",
        "# 'X' contains features, 'y' contains target variable\n",
        "\n",
        "# Assuming 'y' is your target variable\n",
        "# X = df.drop('target_variable_name', axis=1)\n",
        "# y = df['target_variable_name']\n",
        "\n",
        "# Initialize SMOTE with desired sampling strategy\n",
        "# For example, if you want to oversample the minority class to a specific number, say 1000 samples:\n",
        "desired_samples = 200\n",
        "smote = SMOTE(sampling_strategy={1: desired_samples})\n",
        "\n",
        "# Apply SMOTE to your data\n",
        "X_resampled, y_resampled = smote.fit_resample(X, y)\n",
        "\n",
        "# Now X_resampled and y_resampled contain the oversampled data\n",
        "# You can convert them back to DataFrame if needed\n",
        "oversampled_df = pd.concat([pd.DataFrame(X_resampled), pd.DataFrame(y_resampled)], axis=1)\n"
      ],
      "metadata": {
        "id": "cDBUrA766xaa"
      },
      "execution_count": null,
      "outputs": []
    },
    {
      "cell_type": "code",
      "source": [
        "oversampled_df['future_risk_evaluation'].value_counts()"
      ],
      "metadata": {
        "colab": {
          "base_uri": "https://localhost:8080/"
        },
        "id": "VREppacW6xTX",
        "outputId": "9e63d19c-a677-4979-a0bd-3025a39bc2ac"
      },
      "execution_count": null,
      "outputs": [
        {
          "output_type": "execute_result",
          "data": {
            "text/plain": [
              "0.0    1001\n",
              "1.0     200\n",
              "Name: future_risk_evaluation, dtype: int64"
            ]
          },
          "metadata": {},
          "execution_count": 158
        }
      ]
    },
    {
      "cell_type": "code",
      "execution_count": null,
      "metadata": {
        "id": "ZcMSX87RfsTU"
      },
      "outputs": [],
      "source": [
        "X = oversampled_df.iloc[:, 0:-1]\n",
        "y = oversampled_df.iloc[:, -1]"
      ]
    },
    {
      "cell_type": "code",
      "execution_count": null,
      "metadata": {
        "id": "65Aeo3rte2cl"
      },
      "outputs": [],
      "source": [
        "X_train, X_test, y_train, y_test = train_test_split(X, y, test_size=0.2, random_state=0)"
      ]
    },
    {
      "cell_type": "markdown",
      "metadata": {
        "id": "nVk1x-w-eavO"
      },
      "source": [
        "## Find the best parameters"
      ]
    },
    {
      "cell_type": "code",
      "execution_count": null,
      "metadata": {
        "id": "EgVkMI7Zeak2"
      },
      "outputs": [],
      "source": [
        "# Define hyperparameters for each algorithm\n",
        "gbdt_params = {\n",
        "    'n_estimators': [100, 200, 300, 400, 500],\n",
        "    'learning_rate': [1e-3, 1e-2, 1e-1, 1],\n",
        "    'max_depth': [1, 3, 5, 7, 9],\n",
        "    'loss': ['deviance', 'exponential']\n",
        "}\n",
        "\n",
        "lr_params = {\n",
        "    'C': [1e-4, 1e-3, 1e-2, 1e-1, 1, 1e1, 1e2, 1e3, 1e4],\n",
        "    'penalty': ['l1', 'l2'],\n",
        "    'solver': ['liblinear']\n",
        "}\n",
        "\n",
        "mlp_params = {\n",
        "    'hidden_layer_sizes': [(32,16,8,4), (32,16,4), (16,8,4)],\n",
        "    'activation': ['identity', 'logistic', 'tanh', 'relu'],\n",
        "    'alpha': [1e-4, 1e-3, 1e-2],\n",
        "    'solver': ['adam', 'lbfgs', 'sgd']\n",
        "}\n",
        "\n",
        "rf_params = {\n",
        "    'n_estimators': [10, 20, 30, 40, 50, 60, 70, 80, 90, 100],\n",
        "    'criterion': ['gini', 'entropy'],\n",
        "    'max_features': [20, 21, 22, 23, 24, 25, 26, 27]\n",
        "}\n",
        "\n",
        "svm_params = {\n",
        "    'C': [1, 1e1, 1e2, 1e3],\n",
        "    'gamma': [1e-5, 1e-4, 1e-3, 1e-2, 1e-1, 1],\n",
        "    'kernel': ['linear', 'poly', 'rbf', 'sigmoid']\n",
        "}"
      ]
    },
    {
      "cell_type": "code",
      "execution_count": null,
      "metadata": {
        "colab": {
          "base_uri": "https://localhost:8080/",
          "height": 974
        },
        "id": "nDrAnwrgeahq",
        "outputId": "259c86c9-505b-4a09-ad3d-e2c542087dd2"
      },
      "outputs": [
        {
          "metadata": {
            "tags": null
          },
          "name": "stdout",
          "output_type": "stream",
          "text": [
            "Performing grid search with cross-validation for Logistic Regression...\n",
            "Best parameters found: {'C': 100.0, 'penalty': 'l2', 'solver': 'liblinear'}\n",
            "Best cross-validation accuracy: 0.9458333333333334\n",
            "Accuracy on test set: 0.950207468879668\n",
            "Precision: 0.9\n",
            "Recall: 0.8181818181818182\n",
            "F1 Score: 0.8571428571428572\n",
            "Confusion Matrix: [[193 4]\n",
            " [8 36]]\n",
            "\n",
            "Performing grid search with cross-validation for Multilayer Perceptron...\n"
          ]
        },
        {
          "metadata": {
            "tags": null
          },
          "name": "stderr",
          "output_type": "stream",
          "text": [
            "/usr/local/lib/python3.10/dist-packages/sklearn/neural_network/_multilayer_perceptron.py:686: ConvergenceWarning: Stochastic Optimizer: Maximum iterations (200) reached and the optimization hasn't converged yet.\n",
            "  warnings.warn(\n"
          ]
        },
        {
          "metadata": {
            "tags": null
          },
          "name": "stdout",
          "output_type": "stream",
          "text": [
            "Best parameters found: {'activation': 'relu', 'alpha': 0.0001, 'hidden_layer_sizes': (32, 16, 8, 4), 'solver': 'adam'}\n",
            "Best cross-validation accuracy: 0.925\n",
            "Accuracy on test set: 0.9294605809128631\n",
            "Precision: 0.813953488372093\n",
            "Recall: 0.7954545454545454\n",
            "F1 Score: 0.8045977011494252\n",
            "Confusion Matrix: [[189 8]\n",
            " [9 35]]\n",
            "\n",
            "Performing grid search with cross-validation for Random Forest...\n",
            "Best parameters found: {'criterion': 'gini', 'max_features': 25, 'n_estimators': 70}\n",
            "Best cross-validation accuracy: 0.9604166666666668\n",
            "Accuracy on test set: 0.946058091286307\n",
            "Precision: 0.9428571428571428\n",
            "Recall: 0.75\n",
            "F1 Score: 0.8354430379746834\n",
            "Confusion Matrix: [[195 2]\n",
            " [11 33]]\n",
            "\n",
            "Performing grid search with cross-validation for Support Vector Machine...\n"
          ]
        },
        {
          "output_type": "error",
          "ename": "KeyboardInterrupt",
          "evalue": "",
          "traceback": [
            "\u001b[0;31m---------------------------------------------------------------------------\u001b[0m",
            "\u001b[0;31mKeyboardInterrupt\u001b[0m                         Traceback (most recent call last)",
            "\u001b[0;32m<ipython-input-100-c2687f924bbc>\u001b[0m in \u001b[0;36m<cell line: 31>\u001b[0;34m()\u001b[0m\n\u001b[1;32m     32\u001b[0m     \u001b[0mprint\u001b[0m\u001b[0;34m(\u001b[0m\u001b[0;34mf\"Performing grid search with cross-validation for {name}...\"\u001b[0m\u001b[0;34m)\u001b[0m\u001b[0;34m\u001b[0m\u001b[0;34m\u001b[0m\u001b[0m\n\u001b[1;32m     33\u001b[0m     \u001b[0mclf\u001b[0m \u001b[0;34m=\u001b[0m \u001b[0mGridSearchCV\u001b[0m\u001b[0;34m(\u001b[0m\u001b[0mmodel\u001b[0m\u001b[0;34m,\u001b[0m \u001b[0mparameters\u001b[0m\u001b[0;34m[\u001b[0m\u001b[0mname\u001b[0m\u001b[0;34m]\u001b[0m\u001b[0;34m,\u001b[0m \u001b[0mcv\u001b[0m\u001b[0;34m=\u001b[0m\u001b[0;36m5\u001b[0m\u001b[0;34m,\u001b[0m \u001b[0mscoring\u001b[0m\u001b[0;34m=\u001b[0m\u001b[0;34m'accuracy'\u001b[0m\u001b[0;34m,\u001b[0m \u001b[0mn_jobs\u001b[0m\u001b[0;34m=\u001b[0m\u001b[0;34m-\u001b[0m\u001b[0;36m1\u001b[0m\u001b[0;34m)\u001b[0m\u001b[0;34m\u001b[0m\u001b[0;34m\u001b[0m\u001b[0m\n\u001b[0;32m---> 34\u001b[0;31m     \u001b[0mclf\u001b[0m\u001b[0;34m.\u001b[0m\u001b[0mfit\u001b[0m\u001b[0;34m(\u001b[0m\u001b[0mX_train\u001b[0m\u001b[0;34m,\u001b[0m \u001b[0my_train\u001b[0m\u001b[0;34m)\u001b[0m\u001b[0;34m\u001b[0m\u001b[0;34m\u001b[0m\u001b[0m\n\u001b[0m\u001b[1;32m     35\u001b[0m     \u001b[0mprint\u001b[0m\u001b[0;34m(\u001b[0m\u001b[0;34mf\"Best parameters found: {clf.best_params_}\"\u001b[0m\u001b[0;34m)\u001b[0m\u001b[0;34m\u001b[0m\u001b[0;34m\u001b[0m\u001b[0m\n\u001b[1;32m     36\u001b[0m     \u001b[0mprint\u001b[0m\u001b[0;34m(\u001b[0m\u001b[0;34mf\"Best cross-validation accuracy: {clf.best_score_}\"\u001b[0m\u001b[0;34m)\u001b[0m\u001b[0;34m\u001b[0m\u001b[0;34m\u001b[0m\u001b[0m\n",
            "\u001b[0;32m/usr/local/lib/python3.10/dist-packages/sklearn/model_selection/_search.py\u001b[0m in \u001b[0;36mfit\u001b[0;34m(self, X, y, groups, **fit_params)\u001b[0m\n\u001b[1;32m    872\u001b[0m                 \u001b[0;32mreturn\u001b[0m \u001b[0mresults\u001b[0m\u001b[0;34m\u001b[0m\u001b[0;34m\u001b[0m\u001b[0m\n\u001b[1;32m    873\u001b[0m \u001b[0;34m\u001b[0m\u001b[0m\n\u001b[0;32m--> 874\u001b[0;31m             \u001b[0mself\u001b[0m\u001b[0;34m.\u001b[0m\u001b[0m_run_search\u001b[0m\u001b[0;34m(\u001b[0m\u001b[0mevaluate_candidates\u001b[0m\u001b[0;34m)\u001b[0m\u001b[0;34m\u001b[0m\u001b[0;34m\u001b[0m\u001b[0m\n\u001b[0m\u001b[1;32m    875\u001b[0m \u001b[0;34m\u001b[0m\u001b[0m\n\u001b[1;32m    876\u001b[0m             \u001b[0;31m# multimetric is determined here because in the case of a callable\u001b[0m\u001b[0;34m\u001b[0m\u001b[0;34m\u001b[0m\u001b[0m\n",
            "\u001b[0;32m/usr/local/lib/python3.10/dist-packages/sklearn/model_selection/_search.py\u001b[0m in \u001b[0;36m_run_search\u001b[0;34m(self, evaluate_candidates)\u001b[0m\n\u001b[1;32m   1386\u001b[0m     \u001b[0;32mdef\u001b[0m \u001b[0m_run_search\u001b[0m\u001b[0;34m(\u001b[0m\u001b[0mself\u001b[0m\u001b[0;34m,\u001b[0m \u001b[0mevaluate_candidates\u001b[0m\u001b[0;34m)\u001b[0m\u001b[0;34m:\u001b[0m\u001b[0;34m\u001b[0m\u001b[0;34m\u001b[0m\u001b[0m\n\u001b[1;32m   1387\u001b[0m         \u001b[0;34m\"\"\"Search all candidates in param_grid\"\"\"\u001b[0m\u001b[0;34m\u001b[0m\u001b[0;34m\u001b[0m\u001b[0m\n\u001b[0;32m-> 1388\u001b[0;31m         \u001b[0mevaluate_candidates\u001b[0m\u001b[0;34m(\u001b[0m\u001b[0mParameterGrid\u001b[0m\u001b[0;34m(\u001b[0m\u001b[0mself\u001b[0m\u001b[0;34m.\u001b[0m\u001b[0mparam_grid\u001b[0m\u001b[0;34m)\u001b[0m\u001b[0;34m)\u001b[0m\u001b[0;34m\u001b[0m\u001b[0;34m\u001b[0m\u001b[0m\n\u001b[0m\u001b[1;32m   1389\u001b[0m \u001b[0;34m\u001b[0m\u001b[0m\n\u001b[1;32m   1390\u001b[0m \u001b[0;34m\u001b[0m\u001b[0m\n",
            "\u001b[0;32m/usr/local/lib/python3.10/dist-packages/sklearn/model_selection/_search.py\u001b[0m in \u001b[0;36mevaluate_candidates\u001b[0;34m(candidate_params, cv, more_results)\u001b[0m\n\u001b[1;32m    819\u001b[0m                     )\n\u001b[1;32m    820\u001b[0m \u001b[0;34m\u001b[0m\u001b[0m\n\u001b[0;32m--> 821\u001b[0;31m                 out = parallel(\n\u001b[0m\u001b[1;32m    822\u001b[0m                     delayed(_fit_and_score)(\n\u001b[1;32m    823\u001b[0m                         \u001b[0mclone\u001b[0m\u001b[0;34m(\u001b[0m\u001b[0mbase_estimator\u001b[0m\u001b[0;34m)\u001b[0m\u001b[0;34m,\u001b[0m\u001b[0;34m\u001b[0m\u001b[0;34m\u001b[0m\u001b[0m\n",
            "\u001b[0;32m/usr/local/lib/python3.10/dist-packages/sklearn/utils/parallel.py\u001b[0m in \u001b[0;36m__call__\u001b[0;34m(self, iterable)\u001b[0m\n\u001b[1;32m     61\u001b[0m             \u001b[0;32mfor\u001b[0m \u001b[0mdelayed_func\u001b[0m\u001b[0;34m,\u001b[0m \u001b[0margs\u001b[0m\u001b[0;34m,\u001b[0m \u001b[0mkwargs\u001b[0m \u001b[0;32min\u001b[0m \u001b[0miterable\u001b[0m\u001b[0;34m\u001b[0m\u001b[0;34m\u001b[0m\u001b[0m\n\u001b[1;32m     62\u001b[0m         )\n\u001b[0;32m---> 63\u001b[0;31m         \u001b[0;32mreturn\u001b[0m \u001b[0msuper\u001b[0m\u001b[0;34m(\u001b[0m\u001b[0;34m)\u001b[0m\u001b[0;34m.\u001b[0m\u001b[0m__call__\u001b[0m\u001b[0;34m(\u001b[0m\u001b[0miterable_with_config\u001b[0m\u001b[0;34m)\u001b[0m\u001b[0;34m\u001b[0m\u001b[0;34m\u001b[0m\u001b[0m\n\u001b[0m\u001b[1;32m     64\u001b[0m \u001b[0;34m\u001b[0m\u001b[0m\n\u001b[1;32m     65\u001b[0m \u001b[0;34m\u001b[0m\u001b[0m\n",
            "\u001b[0;32m/usr/local/lib/python3.10/dist-packages/joblib/parallel.py\u001b[0m in \u001b[0;36m__call__\u001b[0;34m(self, iterable)\u001b[0m\n\u001b[1;32m   1950\u001b[0m         \u001b[0mnext\u001b[0m\u001b[0;34m(\u001b[0m\u001b[0moutput\u001b[0m\u001b[0;34m)\u001b[0m\u001b[0;34m\u001b[0m\u001b[0;34m\u001b[0m\u001b[0m\n\u001b[1;32m   1951\u001b[0m \u001b[0;34m\u001b[0m\u001b[0m\n\u001b[0;32m-> 1952\u001b[0;31m         \u001b[0;32mreturn\u001b[0m \u001b[0moutput\u001b[0m \u001b[0;32mif\u001b[0m \u001b[0mself\u001b[0m\u001b[0;34m.\u001b[0m\u001b[0mreturn_generator\u001b[0m \u001b[0;32melse\u001b[0m \u001b[0mlist\u001b[0m\u001b[0;34m(\u001b[0m\u001b[0moutput\u001b[0m\u001b[0;34m)\u001b[0m\u001b[0;34m\u001b[0m\u001b[0;34m\u001b[0m\u001b[0m\n\u001b[0m\u001b[1;32m   1953\u001b[0m \u001b[0;34m\u001b[0m\u001b[0m\n\u001b[1;32m   1954\u001b[0m     \u001b[0;32mdef\u001b[0m \u001b[0m__repr__\u001b[0m\u001b[0;34m(\u001b[0m\u001b[0mself\u001b[0m\u001b[0;34m)\u001b[0m\u001b[0;34m:\u001b[0m\u001b[0;34m\u001b[0m\u001b[0;34m\u001b[0m\u001b[0m\n",
            "\u001b[0;32m/usr/local/lib/python3.10/dist-packages/joblib/parallel.py\u001b[0m in \u001b[0;36m_get_outputs\u001b[0;34m(self, iterator, pre_dispatch)\u001b[0m\n\u001b[1;32m   1593\u001b[0m \u001b[0;34m\u001b[0m\u001b[0m\n\u001b[1;32m   1594\u001b[0m             \u001b[0;32mwith\u001b[0m \u001b[0mself\u001b[0m\u001b[0;34m.\u001b[0m\u001b[0m_backend\u001b[0m\u001b[0;34m.\u001b[0m\u001b[0mretrieval_context\u001b[0m\u001b[0;34m(\u001b[0m\u001b[0;34m)\u001b[0m\u001b[0;34m:\u001b[0m\u001b[0;34m\u001b[0m\u001b[0;34m\u001b[0m\u001b[0m\n\u001b[0;32m-> 1595\u001b[0;31m                 \u001b[0;32myield\u001b[0m \u001b[0;32mfrom\u001b[0m \u001b[0mself\u001b[0m\u001b[0;34m.\u001b[0m\u001b[0m_retrieve\u001b[0m\u001b[0;34m(\u001b[0m\u001b[0;34m)\u001b[0m\u001b[0;34m\u001b[0m\u001b[0;34m\u001b[0m\u001b[0m\n\u001b[0m\u001b[1;32m   1596\u001b[0m \u001b[0;34m\u001b[0m\u001b[0m\n\u001b[1;32m   1597\u001b[0m         \u001b[0;32mexcept\u001b[0m \u001b[0mGeneratorExit\u001b[0m\u001b[0;34m:\u001b[0m\u001b[0;34m\u001b[0m\u001b[0;34m\u001b[0m\u001b[0m\n",
            "\u001b[0;32m/usr/local/lib/python3.10/dist-packages/joblib/parallel.py\u001b[0m in \u001b[0;36m_retrieve\u001b[0;34m(self)\u001b[0m\n\u001b[1;32m   1705\u001b[0m                 (self._jobs[0].get_status(\n\u001b[1;32m   1706\u001b[0m                     timeout=self.timeout) == TASK_PENDING)):\n\u001b[0;32m-> 1707\u001b[0;31m                 \u001b[0mtime\u001b[0m\u001b[0;34m.\u001b[0m\u001b[0msleep\u001b[0m\u001b[0;34m(\u001b[0m\u001b[0;36m0.01\u001b[0m\u001b[0;34m)\u001b[0m\u001b[0;34m\u001b[0m\u001b[0;34m\u001b[0m\u001b[0m\n\u001b[0m\u001b[1;32m   1708\u001b[0m                 \u001b[0;32mcontinue\u001b[0m\u001b[0;34m\u001b[0m\u001b[0;34m\u001b[0m\u001b[0m\n\u001b[1;32m   1709\u001b[0m \u001b[0;34m\u001b[0m\u001b[0m\n",
            "\u001b[0;31mKeyboardInterrupt\u001b[0m: "
          ]
        }
      ],
      "source": [
        "from sklearn.model_selection import GridSearchCV, cross_val_score\n",
        "\n",
        "# Define the models\n",
        "models = {\n",
        "    # 'Gradient Boosted Decision Trees': GradientBoostingClassifier(),\n",
        "    'Logistic Regression': LogisticRegression(),\n",
        "    'Multilayer Perceptron': MLPClassifier(),\n",
        "    'Random Forest': RandomForestClassifier(),\n",
        "    'Support Vector Machine': SVC()\n",
        "}\n",
        "\n",
        "# Define hyperparameters for each model\n",
        "parameters = {\n",
        "    'Gradient Boosted Decision Trees': gbdt_params,\n",
        "    'Logistic Regression': lr_params,\n",
        "    'Multilayer Perceptron': mlp_params,\n",
        "    'Random Forest': rf_params,\n",
        "    'Support Vector Machine': svm_params\n",
        "}\n",
        "\n",
        "# Evaluation Metrics\n",
        "def evaluate(y_true, y_pred):\n",
        "    accuracy = accuracy_score(y_true, y_pred)\n",
        "    precision = precision_score(y_true, y_pred)\n",
        "    recall = recall_score(y_true, y_pred)\n",
        "    f1 = f1_score(y_true, y_pred)\n",
        "    tn, fp, fn, tp = confusion_matrix(y_true, y_pred).ravel()\n",
        "    return accuracy, precision, recall, f1, tn, fp, fn, tp\n",
        "\n",
        "# Perform grid search with cross-validation\n",
        "for name, model in models.items():\n",
        "    print(f\"Performing grid search with cross-validation for {name}...\")\n",
        "    clf = GridSearchCV(model, parameters[name], cv=5, scoring='accuracy', n_jobs=-1)\n",
        "    clf.fit(X_train, y_train)\n",
        "    print(f\"Best parameters found: {clf.best_params_}\")\n",
        "    print(f\"Best cross-validation accuracy: {clf.best_score_}\")\n",
        "\n",
        "    # Evaluate on test set\n",
        "    test_score = clf.score(X_test, y_test)\n",
        "    print(f\"Accuracy on test set: {test_score}\")\n",
        "\n",
        "    # Print other evaluation metrics\n",
        "    y_pred = clf.predict(X_test)\n",
        "    accuracy, precision, recall, f1, tn, fp, fn, tp = evaluate(y_test, y_pred)\n",
        "    print(f\"Precision: {precision}\")\n",
        "    print(f\"Recall: {recall}\")\n",
        "    print(f\"F1 Score: {f1}\")\n",
        "    print(f\"Confusion Matrix: [[{tn} {fp}]\\n [{fn} {tp}]]\")\n",
        "    print()\n"
      ]
    },
    {
      "cell_type": "markdown",
      "source": [
        "# Apply ML Algorithms"
      ],
      "metadata": {
        "id": "OjDt0abgBiNd"
      }
    },
    {
      "cell_type": "code",
      "execution_count": null,
      "metadata": {
        "id": "zEj8TYcSeabJ",
        "colab": {
          "base_uri": "https://localhost:8080/",
          "height": 1000
        },
        "outputId": "dd7c58fd-c329-4dc8-c7ac-f713f9b50fc5"
      },
      "outputs": [
        {
          "output_type": "stream",
          "name": "stdout",
          "text": [
            "Gradient Boosted Decision Trees...\n",
            "Accuracy on test set: 0.941908713692946\n",
            "Precision: 0.96875\n",
            "Recall: 0.7045454545454546\n",
            "F1 Score: 0.8157894736842106\n",
            "Confusion Matrix: [[196 1]\n",
            " [13 31]]\n",
            "\n"
          ]
        },
        {
          "output_type": "display_data",
          "data": {
            "text/plain": [
              "<Figure size 640x480 with 1 Axes>"
            ],
            "image/png": "[encoded data removed]"
          },
          "metadata": {}
        },
        {
          "output_type": "stream",
          "name": "stdout",
          "text": [
            "Logistic Regression...\n",
            "Accuracy on test set: 0.9294605809128631\n",
            "Precision: 0.8648648648648649\n",
            "Recall: 0.7272727272727273\n",
            "F1 Score: 0.7901234567901235\n",
            "Confusion Matrix: [[192 5]\n",
            " [12 32]]\n",
            "\n",
            "Multilayer Perceptron...\n",
            "Accuracy on test set: 0.9087136929460581\n",
            "Precision: 0.9583333333333334\n",
            "Recall: 0.5227272727272727\n",
            "F1 Score: 0.6764705882352942\n",
            "Confusion Matrix: [[196 1]\n",
            " [21 23]]\n",
            "\n",
            "Random Forest...\n",
            "Accuracy on test set: 0.950207468879668\n",
            "Precision: 0.9444444444444444\n",
            "Recall: 0.7727272727272727\n",
            "F1 Score: 0.85\n",
            "Confusion Matrix: [[195 2]\n",
            " [10 34]]\n",
            "\n"
          ]
        },
        {
          "output_type": "display_data",
          "data": {
            "text/plain": [
              "<Figure size 640x480 with 1 Axes>"
            ],
            "image/png": "[encoded data removed]"
          },
          "metadata": {}
        },
        {
          "output_type": "stream",
          "name": "stdout",
          "text": [
            "Support Vector Machine...\n",
            "Accuracy on test set: 0.8423236514522822\n",
            "Precision: 0.6666666666666666\n",
            "Recall: 0.2727272727272727\n",
            "F1 Score: 0.3870967741935484\n",
            "Confusion Matrix: [[191 6]\n",
            " [32 12]]\n",
            "\n"
          ]
        }
      ],
      "source": [
        "X_train_columns = X_train.columns\n",
        "# Define the models\n",
        "models = {\n",
        "    'Gradient Boosted Decision Trees': GradientBoostingClassifier(),\n",
        "    'Logistic Regression': LogisticRegression(penalty='l2', solver='liblinear'),\n",
        "    'Multilayer Perceptron': MLPClassifier(activation='relu', alpha=0.0001, hidden_layer_sizes=(32, 16, 8, 4), solver='adam'),\n",
        "    'Random Forest': RandomForestClassifier(criterion='gini', max_features=25, n_estimators=70),\n",
        "    'Support Vector Machine': SVC()\n",
        "}\n",
        "\n",
        "# Evaluation Metrics\n",
        "def evaluate(y_true, y_pred):\n",
        "    accuracy = accuracy_score(y_true, y_pred)\n",
        "    precision = precision_score(y_true, y_pred)\n",
        "    recall = recall_score(y_true, y_pred)\n",
        "    f1 = f1_score(y_true, y_pred)\n",
        "    tn, fp, fn, tp = confusion_matrix(y_true, y_pred).ravel()\n",
        "    return accuracy, precision, recall, f1, tn, fp, fn, tp\n",
        "\n",
        "for name, model in models.items():\n",
        "    print(f\"{name}...\")\n",
        "    clf = model\n",
        "    clf.fit(X_train, y_train)\n",
        "\n",
        "    # Evaluate on test set\n",
        "    test_score = clf.score(X_test, y_test)\n",
        "    print(f\"Accuracy on test set: {test_score}\")\n",
        "\n",
        "    # Print other evaluation metrics\n",
        "    y_pred = clf.predict(X_test)\n",
        "    accuracy, precision, recall, f1, tn, fp, fn, tp = evaluate(y_test, y_pred)\n",
        "    print(f\"Precision: {precision}\")\n",
        "    print(f\"Recall: {recall}\")\n",
        "    print(f\"F1 Score: {f1}\")\n",
        "    print(f\"Confusion Matrix: [[{tn} {fp}]\\n [{fn} {tp}]]\")\n",
        "    print()\n",
        "    if name in ['Gradient Boosted Decision Trees', 'Random Forest']:\n",
        "      feature_importance = clf.feature_importances_\n",
        "      series_importances = pd.Series(feature_importance, index=X_train_columns)\n",
        "      top_five_importances = series_importances.nlargest(5)\n",
        "\n",
        "      fig, ax = plt.subplots()\n",
        "      top_five_importances.plot.bar(ax=ax)\n",
        "      ax.set_title(\"Top 5 Feature Importances\")\n",
        "      ax.set_ylabel(\"Value\")\n",
        "      fig.tight_layout()\n",
        "      plt.show()\n",
        "\n"
      ]
    },
    {
      "cell_type": "code",
      "source": [
        "import pandas as pd\n",
        "\n",
        "X_train_columns = X_train.columns\n",
        "# Create a DataFrame with feature importance and corresponding column names\n",
        "forest_importances = pd.Series(feature_importance, index=X_train_columns)\n",
        "\n",
        "# Select only the top five most important features\n",
        "top_five_importances = forest_importances.nlargest(5)\n",
        "\n",
        "# Plot the top five most important features\n",
        "fig, ax = plt.subplots()\n",
        "top_five_importances.plot.bar(ax=ax)\n",
        "ax.set_title(\"Top 5 Feature Importances using MDI\")\n",
        "ax.set_ylabel(\"Mean Decrease in Impurity\")\n",
        "fig.tight_layout()\n",
        "plt.show()\n"
      ],
      "metadata": {
        "colab": {
          "base_uri": "https://localhost:8080/",
          "height": 487
        },
        "id": "-o8txPs5U3Vi",
        "outputId": "cca9bec5-dc92-42d0-a99b-6f5cdeb305f1"
      },
      "execution_count": null,
      "outputs": [
        {
          "output_type": "display_data",
          "data": {
            "text/plain": [
              "<Figure size 640x480 with 1 Axes>"
            ],
            "image/png": "[encoded data removed]"
          },
          "metadata": {}
        }
      ]
    },
    {
      "cell_type": "code",
      "source": [
        "forest_importances = pd.Series(feature_importance, index=X.columns)\n",
        "\n",
        "fig, ax = plt.subplots()\n",
        "forest_importances.plot.bar(ax=ax)\n",
        "ax.set_title(\"Feature importances using MDI\")\n",
        "ax.set_ylabel(\"Mean decrease in impurity\")\n",
        "fig.tight_layout()"
      ],
      "metadata": {
        "colab": {
          "base_uri": "https://localhost:8080/",
          "height": 487
        },
        "id": "Ye-4IzPpHdwR",
        "outputId": "e2cfc399-8a4c-4fd8-be41-ca4af278337a"
      },
      "execution_count": null,
      "outputs": [
        {
          "output_type": "display_data",
          "data": {
            "text/plain": [
              "<Figure size 640x480 with 1 Axes>"
            ],
            "image/png": "[encoded data removed]"
          },
          "metadata": {}
        }
      ]
    },
    {
      "cell_type": "code",
      "source": [
        "# Feature Importance for Gradient Boosted Decision Trees\n",
        "gbdt_feature_importance = gbdt_grid.best_estimator_.feature_importances_\n",
        "\n",
        "# Feature Importance for Random Forest\n",
        "rf_feature_importance = rf_grid.best_estimator_.feature_importances_\n",
        "\n",
        "# Print feature importance\n",
        "print(\"Feature Importance for Gradient Boosted Decision Trees:\", gbdt_feature_importance)\n",
        "print(\"Feature Importance for Random Forest:\", rf_feature_importance)"
      ],
      "metadata": {
        "colab": {
          "base_uri": "https://localhost:8080/",
          "height": 216
        },
        "id": "b1XRpGRoHdto",
        "outputId": "e32086c7-3db5-47c5-d0ba-25f65ebe2d0c"
      },
      "execution_count": null,
      "outputs": [
        {
          "output_type": "error",
          "ename": "NameError",
          "evalue": "name 'gbdt_grid' is not defined",
          "traceback": [
            "\u001b[0;31m---------------------------------------------------------------------------\u001b[0m",
            "\u001b[0;31mNameError\u001b[0m                                 Traceback (most recent call last)",
            "\u001b[0;32m<ipython-input-110-387b026e0a65>\u001b[0m in \u001b[0;36m<cell line: 2>\u001b[0;34m()\u001b[0m\n\u001b[1;32m      1\u001b[0m \u001b[0;31m# Feature Importance for Gradient Boosted Decision Trees\u001b[0m\u001b[0;34m\u001b[0m\u001b[0;34m\u001b[0m\u001b[0m\n\u001b[0;32m----> 2\u001b[0;31m \u001b[0mgbdt_feature_importance\u001b[0m \u001b[0;34m=\u001b[0m \u001b[0mgbdt_grid\u001b[0m\u001b[0;34m.\u001b[0m\u001b[0mbest_estimator_\u001b[0m\u001b[0;34m.\u001b[0m\u001b[0mfeature_importances_\u001b[0m\u001b[0;34m\u001b[0m\u001b[0;34m\u001b[0m\u001b[0m\n\u001b[0m\u001b[1;32m      3\u001b[0m \u001b[0;34m\u001b[0m\u001b[0m\n\u001b[1;32m      4\u001b[0m \u001b[0;31m# Feature Importance for Random Forest\u001b[0m\u001b[0;34m\u001b[0m\u001b[0;34m\u001b[0m\u001b[0m\n\u001b[1;32m      5\u001b[0m \u001b[0mrf_feature_importance\u001b[0m \u001b[0;34m=\u001b[0m \u001b[0mrf_grid\u001b[0m\u001b[0;34m.\u001b[0m\u001b[0mbest_estimator_\u001b[0m\u001b[0;34m.\u001b[0m\u001b[0mfeature_importances_\u001b[0m\u001b[0;34m\u001b[0m\u001b[0;34m\u001b[0m\u001b[0m\n",
            "\u001b[0;31mNameError\u001b[0m: name 'gbdt_grid' is not defined"
          ]
        }
      ]
    },
    {
      "cell_type": "code",
      "source": [],
      "metadata": {
        "id": "Da_nm4BGHdq4"
      },
      "execution_count": null,
      "outputs": []
    },
    {
      "cell_type": "code",
      "source": [],
      "metadata": {
        "id": "Wa5njWN6HdpQ"
      },
      "execution_count": null,
      "outputs": []
    },
    {
      "cell_type": "code",
      "source": [],
      "metadata": {
        "id": "jaA9hyLBHdk6"
      },
      "execution_count": null,
      "outputs": []
    },
    {
      "cell_type": "code",
      "execution_count": null,
      "metadata": {
        "id": "dIiOBQs3MkhF"
      },
      "outputs": [],
      "source": [
        "# For classification\n",
        "rf_classifier = RandomForestClassifier()\n",
        "rf_classifier.fit(X_train, y_train)\n",
        "y_pred_rf_classifier = rf_classifier.predict(X_test)\n",
        "accuracy_rf = accuracy_score(y_test, y_pred_rf_classifier)\n",
        "precision_rf = precision_score(y_test, y_pred_rf_classifier)\n",
        "recall_rf = recall_score(y_test, y_pred_rf_classifier)\n",
        "f1_rf = f1_score(y_test, y_pred_rf_classifier)\n"
      ]
    },
    {
      "cell_type": "code",
      "execution_count": null,
      "metadata": {
        "id": "PVUBSd5ab9tz"
      },
      "outputs": [],
      "source": []
    },
    {
      "cell_type": "code",
      "execution_count": null,
      "metadata": {
        "id": "kqrxazvJb4j3"
      },
      "outputs": [],
      "source": []
    },
    {
      "cell_type": "code",
      "execution_count": null,
      "metadata": {
        "id": "KVoKLNqwGmFM"
      },
      "outputs": [],
      "source": [
        "df = pd.DataFrame(df)\n",
        "df['future_risk_evaluation'] = df['risk_evaluation'].shift(-1)"
      ]
    },
    {
      "cell_type": "code",
      "execution_count": null,
      "metadata": {
        "id": "zNDxRD_zKnM5"
      },
      "outputs": [],
      "source": [
        "df_filtered = df[~df.duplicated(subset='subject', keep='last')]\n",
        "df_final = df.drop(df_filtered.index)\n",
        "df_final = df_final.drop(columns=['Unnamed: 0'])"
      ]
    },
    {
      "cell_type": "code",
      "execution_count": null,
      "metadata": {
        "id": "pzWT0MaFHzLg"
      },
      "outputs": [],
      "source": [
        "df_final.to_csv('fut.csv', sep=',', index=False, encoding='utf-8')"
      ]
    },
    {
      "cell_type": "code",
      "source": [
        "f1_rf"
      ],
      "metadata": {
        "colab": {
          "base_uri": "https://localhost:8080/"
        },
        "id": "4s50ZK7uANc3",
        "outputId": "f49f8240-92ff-4071-fcc4-8cf4354fa180"
      },
      "execution_count": null,
      "outputs": [
        {
          "output_type": "execute_result",
          "data": {
            "text/plain": [
              "0.8205128205128205"
            ]
          },
          "metadata": {},
          "execution_count": 96
        }
      ]
    },
    {
      "cell_type": "code",
      "source": [],
      "metadata": {
        "id": "JDbYM07BAkUu"
      },
      "execution_count": null,
      "outputs": []
    }
  ],
  "metadata": {
    "colab": {
      "provenance": []
    },
    "kernelspec": {
      "display_name": "Python 3",
      "name": "python3"
    },
    "language_info": {
      "name": "python"
    }
  },
  "nbformat": 4,
  "nbformat_minor": 0
}